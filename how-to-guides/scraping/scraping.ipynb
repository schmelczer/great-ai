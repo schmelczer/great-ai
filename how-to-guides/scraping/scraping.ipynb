{
 "cells": [
  {
   "cell_type": "code",
   "execution_count": null,
   "metadata": {},
   "outputs": [],
   "source": [
    "import httpx\n",
    "\n",
    "transport = httpx.AsyncHTTPTransport(retries=2)\n",
    "limits = httpx.Limits(max_connections=None)\n",
    "timeout = httpx.Timeout(connect=60.0, read=300, write=60, pool=None)\n",
    "async with httpx.AsyncClient(\n",
    "    transport=transport, limits=limits, timeout=timeout\n",
    ") as client:\n",
    "    pass"
   ]
  }
 ],
 "metadata": {
  "language_info": {
   "name": "python"
  },
  "orig_nbformat": 4
 },
 "nbformat": 4,
 "nbformat_minor": 2
}
