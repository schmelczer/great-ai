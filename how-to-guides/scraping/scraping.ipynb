{
 "cells": [
  {
   "cell_type": "code",
   "execution_count": null,
   "metadata": {},
   "outputs": [],
   "source": [
    "import httpx\n",
    "\n",
    "transport = httpx.AsyncHTTPTransport(retries=2)\n",
    "limits = httpx.Limits(max_connections=None)\n",
    "timeout = httpx.Timeout(connect=60.0, read=300, write=60, pool=None)\n",
    "async with httpx.AsyncClient(\n",
    "    transport=transport, limits=limits, timeout=timeout\n",
    ") as client:\n",
    "    pass"
   ]
  },
  {
   "cell_type": "code",
   "execution_count": 1,
   "metadata": {},
   "outputs": [
    {
     "name": "stderr",
     "output_type": "stream",
     "text": [
      "\u001b[38;5;226m2022-07-11 19:00:27 |  WARNING | Environment variable ENVIRONMENT is not set, defaulting to development mode ‼️\u001b[0m\n",
      "\u001b[38;5;226m2022-07-11 19:00:27 |  WARNING | Cannot find credentials files, defaulting to using ParallelTinyDbDriver\u001b[0m\n",
      "\u001b[38;5;226m2022-07-11 19:00:27 |  WARNING | The selected tracing database (ParallelTinyDbDriver) is not recommended for production\u001b[0m\n",
      "\u001b[38;5;226m2022-07-11 19:00:27 |  WARNING | Cannot find credentials files, defaulting to using LargeFileLocal\u001b[0m\n",
      "\u001b[38;5;39m2022-07-11 19:00:27 |     INFO | GreatAI (v0.1.3): configured ✅\u001b[0m\n",
      "\u001b[38;5;39m2022-07-11 19:00:27 |     INFO |   🔩 tracing_database: ParallelTinyDbDriver\u001b[0m\n",
      "\u001b[38;5;39m2022-07-11 19:00:27 |     INFO |   🔩 large_file_implementation: LargeFileLocal\u001b[0m\n",
      "\u001b[38;5;39m2022-07-11 19:00:27 |     INFO |   🔩 is_production: False\u001b[0m\n",
      "\u001b[38;5;39m2022-07-11 19:00:27 |     INFO |   🔩 should_log_exception_stack: True\u001b[0m\n",
      "\u001b[38;5;39m2022-07-11 19:00:27 |     INFO |   🔩 prediction_cache_size: 512\u001b[0m\n",
      "\u001b[38;5;39m2022-07-11 19:00:27 |     INFO |   🔩 dashboard_table_size: 50\u001b[0m\n",
      "\u001b[38;5;226m2022-07-11 19:00:27 |  WARNING | You still need to check whether you follow all best practices before trusting your deployment.\u001b[0m\n",
      "\u001b[38;5;226m2022-07-11 19:00:27 |  WARNING | > Find out more at https://se-ml.github.io/practices\u001b[0m\n"
     ]
    },
    {
     "data": {
      "text/plain": [
       "Trace[str]({'created': '2022-07-11T17:00:27.064568',\n",
       "  'exception': None,\n",
       "  'feedback': None,\n",
       "  'logged_values': {'arg:your_name:length': 3, 'arg:your_name:value': 'Bob'},\n",
       "  'models': [],\n",
       "  'original_execution_time_ms': 0.0896,\n",
       "  'output': 'Hi Bob',\n",
       "  'tags': ['greeter', 'online', 'development'],\n",
       "  'trace_id': '8ff5b268-2613-4e85-96ae-f248666a051f'})"
      ]
     },
     "execution_count": 1,
     "metadata": {},
     "output_type": "execute_result"
    }
   ],
   "source": [
    "from great_ai import configure, RouteConfig\n",
    "from great_ai import GreatAI\n",
    "\n",
    "\n",
    "@GreatAI.create\n",
    "def greeter(your_name: str) -> str:\n",
    "    return f\"Hi {your_name}\"\n",
    "\n",
    "\n",
    "greeter(\"Bob\")"
   ]
  }
 ],
 "metadata": {
  "kernelspec": {
   "display_name": "Python 3.10.4 ('.env': venv)",
   "language": "python",
   "name": "python3"
  },
  "language_info": {
   "codemirror_mode": {
    "name": "ipython",
    "version": 3
   },
   "file_extension": ".py",
   "mimetype": "text/x-python",
   "name": "python",
   "nbconvert_exporter": "python",
   "pygments_lexer": "ipython3",
   "version": "3.10.4"
  },
  "orig_nbformat": 4,
  "vscode": {
   "interpreter": {
    "hash": "02dd6d3afbfa9fbbe1037d64ad9014965528a1ccad21929d6e72f466389a68ad"
   }
  }
 },
 "nbformat": 4,
 "nbformat_minor": 2
}
