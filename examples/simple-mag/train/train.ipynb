{
 "cells": [
  {
   "cell_type": "markdown",
   "metadata": {},
   "source": [
    "# Train a field of study (domain) classification of sentences on the [MAG](https://github.com/allenai/scibert/tree/master/data/text_classification/mag) dataset\n",
    "\n",
    "[SciBERT achieves an F1-score of 0.6571 on this dataset.](https://paperswithcode.com/sota/sentence-classification-on-paper-field) \n",
    "This notebook shows that better results can be achieved without even using transformers."
   ]
  },
  {
   "cell_type": "code",
   "execution_count": 1,
   "metadata": {},
   "outputs": [
    {
     "name": "stderr",
     "output_type": "stream",
     "text": [
      "84000it [00:09, 8647.60it/s] \n",
      "22399it [00:03, 6368.63it/s]\n"
     ]
    }
   ],
   "source": [
    "import json\n",
    "from typing import Tuple\n",
    "from great_ai.utilities import clean, parallel_map\n",
    "from tqdm.cli import tqdm\n",
    "\n",
    "\n",
    "def preprocess(line: str) -> Tuple[str, str]:\n",
    "    data_point = json.loads(line)\n",
    "\n",
    "    return (clean(data_point[\"text\"], convert_to_ascii=True), data_point[\"label\"])\n",
    "\n",
    "\n",
    "with open(\"mag/train.txt\", encoding=\"utf-8\") as f:\n",
    "    training_data = list(tqdm(parallel_map(preprocess, f.readlines())))\n",
    "\n",
    "X_train = [d[0] for d in training_data]\n",
    "y_train = [d[1] for d in training_data]\n",
    "\n",
    "\n",
    "with open(\"mag/test.txt\", encoding=\"utf-8\") as f:\n",
    "    test_data = list(tqdm(parallel_map(preprocess, f.readlines())))\n",
    "\n",
    "X_test = [d[0] for d in test_data]\n",
    "y_test = [d[1] for d in test_data]"
   ]
  },
  {
   "cell_type": "code",
   "execution_count": 2,
   "metadata": {},
   "outputs": [
    {
     "data": {
      "application/vnd.plotly.v1+json": {
       "config": {
        "plotlyServerURL": "https://plot.ly"
       },
       "data": [
        {
         "alignmentgroup": "True",
         "hovertemplate": "domain=%{x}<br>count=%{y}<extra></extra>",
         "legendgroup": "",
         "marker": {
          "color": "#636efa",
          "pattern": {
           "shape": ""
          }
         },
         "name": "",
         "offsetgroup": "",
         "orientation": "v",
         "showlegend": false,
         "textposition": "auto",
         "type": "bar",
         "x": [
          "geography",
          "politics",
          "economics",
          "business",
          "sociology",
          "medicine",
          "psychology"
         ],
         "xaxis": "x",
         "y": [
          12145,
          12051,
          11995,
          11990,
          11977,
          11928,
          11914
         ],
         "yaxis": "y"
        }
       ],
       "layout": {
        "barmode": "relative",
        "height": 400,
        "legend": {
         "tracegroupgap": 0
        },
        "margin": {
         "t": 60
        },
        "template": {
         "data": {
          "bar": [
           {
            "error_x": {
             "color": "#2a3f5f"
            },
            "error_y": {
             "color": "#2a3f5f"
            },
            "marker": {
             "line": {
              "color": "#E5ECF6",
              "width": 0.5
             },
             "pattern": {
              "fillmode": "overlay",
              "size": 10,
              "solidity": 0.2
             }
            },
            "type": "bar"
           }
          ],
          "barpolar": [
           {
            "marker": {
             "line": {
              "color": "#E5ECF6",
              "width": 0.5
             },
             "pattern": {
              "fillmode": "overlay",
              "size": 10,
              "solidity": 0.2
             }
            },
            "type": "barpolar"
           }
          ],
          "carpet": [
           {
            "aaxis": {
             "endlinecolor": "#2a3f5f",
             "gridcolor": "white",
             "linecolor": "white",
             "minorgridcolor": "white",
             "startlinecolor": "#2a3f5f"
            },
            "baxis": {
             "endlinecolor": "#2a3f5f",
             "gridcolor": "white",
             "linecolor": "white",
             "minorgridcolor": "white",
             "startlinecolor": "#2a3f5f"
            },
            "type": "carpet"
           }
          ],
          "choropleth": [
           {
            "colorbar": {
             "outlinewidth": 0,
             "ticks": ""
            },
            "type": "choropleth"
           }
          ],
          "contour": [
           {
            "colorbar": {
             "outlinewidth": 0,
             "ticks": ""
            },
            "colorscale": [
             [
              0,
              "#0d0887"
             ],
             [
              0.1111111111111111,
              "#46039f"
             ],
             [
              0.2222222222222222,
              "#7201a8"
             ],
             [
              0.3333333333333333,
              "#9c179e"
             ],
             [
              0.4444444444444444,
              "#bd3786"
             ],
             [
              0.5555555555555556,
              "#d8576b"
             ],
             [
              0.6666666666666666,
              "#ed7953"
             ],
             [
              0.7777777777777778,
              "#fb9f3a"
             ],
             [
              0.8888888888888888,
              "#fdca26"
             ],
             [
              1,
              "#f0f921"
             ]
            ],
            "type": "contour"
           }
          ],
          "contourcarpet": [
           {
            "colorbar": {
             "outlinewidth": 0,
             "ticks": ""
            },
            "type": "contourcarpet"
           }
          ],
          "heatmap": [
           {
            "colorbar": {
             "outlinewidth": 0,
             "ticks": ""
            },
            "colorscale": [
             [
              0,
              "#0d0887"
             ],
             [
              0.1111111111111111,
              "#46039f"
             ],
             [
              0.2222222222222222,
              "#7201a8"
             ],
             [
              0.3333333333333333,
              "#9c179e"
             ],
             [
              0.4444444444444444,
              "#bd3786"
             ],
             [
              0.5555555555555556,
              "#d8576b"
             ],
             [
              0.6666666666666666,
              "#ed7953"
             ],
             [
              0.7777777777777778,
              "#fb9f3a"
             ],
             [
              0.8888888888888888,
              "#fdca26"
             ],
             [
              1,
              "#f0f921"
             ]
            ],
            "type": "heatmap"
           }
          ],
          "heatmapgl": [
           {
            "colorbar": {
             "outlinewidth": 0,
             "ticks": ""
            },
            "colorscale": [
             [
              0,
              "#0d0887"
             ],
             [
              0.1111111111111111,
              "#46039f"
             ],
             [
              0.2222222222222222,
              "#7201a8"
             ],
             [
              0.3333333333333333,
              "#9c179e"
             ],
             [
              0.4444444444444444,
              "#bd3786"
             ],
             [
              0.5555555555555556,
              "#d8576b"
             ],
             [
              0.6666666666666666,
              "#ed7953"
             ],
             [
              0.7777777777777778,
              "#fb9f3a"
             ],
             [
              0.8888888888888888,
              "#fdca26"
             ],
             [
              1,
              "#f0f921"
             ]
            ],
            "type": "heatmapgl"
           }
          ],
          "histogram": [
           {
            "marker": {
             "pattern": {
              "fillmode": "overlay",
              "size": 10,
              "solidity": 0.2
             }
            },
            "type": "histogram"
           }
          ],
          "histogram2d": [
           {
            "colorbar": {
             "outlinewidth": 0,
             "ticks": ""
            },
            "colorscale": [
             [
              0,
              "#0d0887"
             ],
             [
              0.1111111111111111,
              "#46039f"
             ],
             [
              0.2222222222222222,
              "#7201a8"
             ],
             [
              0.3333333333333333,
              "#9c179e"
             ],
             [
              0.4444444444444444,
              "#bd3786"
             ],
             [
              0.5555555555555556,
              "#d8576b"
             ],
             [
              0.6666666666666666,
              "#ed7953"
             ],
             [
              0.7777777777777778,
              "#fb9f3a"
             ],
             [
              0.8888888888888888,
              "#fdca26"
             ],
             [
              1,
              "#f0f921"
             ]
            ],
            "type": "histogram2d"
           }
          ],
          "histogram2dcontour": [
           {
            "colorbar": {
             "outlinewidth": 0,
             "ticks": ""
            },
            "colorscale": [
             [
              0,
              "#0d0887"
             ],
             [
              0.1111111111111111,
              "#46039f"
             ],
             [
              0.2222222222222222,
              "#7201a8"
             ],
             [
              0.3333333333333333,
              "#9c179e"
             ],
             [
              0.4444444444444444,
              "#bd3786"
             ],
             [
              0.5555555555555556,
              "#d8576b"
             ],
             [
              0.6666666666666666,
              "#ed7953"
             ],
             [
              0.7777777777777778,
              "#fb9f3a"
             ],
             [
              0.8888888888888888,
              "#fdca26"
             ],
             [
              1,
              "#f0f921"
             ]
            ],
            "type": "histogram2dcontour"
           }
          ],
          "mesh3d": [
           {
            "colorbar": {
             "outlinewidth": 0,
             "ticks": ""
            },
            "type": "mesh3d"
           }
          ],
          "parcoords": [
           {
            "line": {
             "colorbar": {
              "outlinewidth": 0,
              "ticks": ""
             }
            },
            "type": "parcoords"
           }
          ],
          "pie": [
           {
            "automargin": true,
            "type": "pie"
           }
          ],
          "scatter": [
           {
            "fillpattern": {
             "fillmode": "overlay",
             "size": 10,
             "solidity": 0.2
            },
            "type": "scatter"
           }
          ],
          "scatter3d": [
           {
            "line": {
             "colorbar": {
              "outlinewidth": 0,
              "ticks": ""
             }
            },
            "marker": {
             "colorbar": {
              "outlinewidth": 0,
              "ticks": ""
             }
            },
            "type": "scatter3d"
           }
          ],
          "scattercarpet": [
           {
            "marker": {
             "colorbar": {
              "outlinewidth": 0,
              "ticks": ""
             }
            },
            "type": "scattercarpet"
           }
          ],
          "scattergeo": [
           {
            "marker": {
             "colorbar": {
              "outlinewidth": 0,
              "ticks": ""
             }
            },
            "type": "scattergeo"
           }
          ],
          "scattergl": [
           {
            "marker": {
             "colorbar": {
              "outlinewidth": 0,
              "ticks": ""
             }
            },
            "type": "scattergl"
           }
          ],
          "scattermapbox": [
           {
            "marker": {
             "colorbar": {
              "outlinewidth": 0,
              "ticks": ""
             }
            },
            "type": "scattermapbox"
           }
          ],
          "scatterpolar": [
           {
            "marker": {
             "colorbar": {
              "outlinewidth": 0,
              "ticks": ""
             }
            },
            "type": "scatterpolar"
           }
          ],
          "scatterpolargl": [
           {
            "marker": {
             "colorbar": {
              "outlinewidth": 0,
              "ticks": ""
             }
            },
            "type": "scatterpolargl"
           }
          ],
          "scatterternary": [
           {
            "marker": {
             "colorbar": {
              "outlinewidth": 0,
              "ticks": ""
             }
            },
            "type": "scatterternary"
           }
          ],
          "surface": [
           {
            "colorbar": {
             "outlinewidth": 0,
             "ticks": ""
            },
            "colorscale": [
             [
              0,
              "#0d0887"
             ],
             [
              0.1111111111111111,
              "#46039f"
             ],
             [
              0.2222222222222222,
              "#7201a8"
             ],
             [
              0.3333333333333333,
              "#9c179e"
             ],
             [
              0.4444444444444444,
              "#bd3786"
             ],
             [
              0.5555555555555556,
              "#d8576b"
             ],
             [
              0.6666666666666666,
              "#ed7953"
             ],
             [
              0.7777777777777778,
              "#fb9f3a"
             ],
             [
              0.8888888888888888,
              "#fdca26"
             ],
             [
              1,
              "#f0f921"
             ]
            ],
            "type": "surface"
           }
          ],
          "table": [
           {
            "cells": {
             "fill": {
              "color": "#EBF0F8"
             },
             "line": {
              "color": "white"
             }
            },
            "header": {
             "fill": {
              "color": "#C8D4E3"
             },
             "line": {
              "color": "white"
             }
            },
            "type": "table"
           }
          ]
         },
         "layout": {
          "annotationdefaults": {
           "arrowcolor": "#2a3f5f",
           "arrowhead": 0,
           "arrowwidth": 1
          },
          "autotypenumbers": "strict",
          "coloraxis": {
           "colorbar": {
            "outlinewidth": 0,
            "ticks": ""
           }
          },
          "colorscale": {
           "diverging": [
            [
             0,
             "#8e0152"
            ],
            [
             0.1,
             "#c51b7d"
            ],
            [
             0.2,
             "#de77ae"
            ],
            [
             0.3,
             "#f1b6da"
            ],
            [
             0.4,
             "#fde0ef"
            ],
            [
             0.5,
             "#f7f7f7"
            ],
            [
             0.6,
             "#e6f5d0"
            ],
            [
             0.7,
             "#b8e186"
            ],
            [
             0.8,
             "#7fbc41"
            ],
            [
             0.9,
             "#4d9221"
            ],
            [
             1,
             "#276419"
            ]
           ],
           "sequential": [
            [
             0,
             "#0d0887"
            ],
            [
             0.1111111111111111,
             "#46039f"
            ],
            [
             0.2222222222222222,
             "#7201a8"
            ],
            [
             0.3333333333333333,
             "#9c179e"
            ],
            [
             0.4444444444444444,
             "#bd3786"
            ],
            [
             0.5555555555555556,
             "#d8576b"
            ],
            [
             0.6666666666666666,
             "#ed7953"
            ],
            [
             0.7777777777777778,
             "#fb9f3a"
            ],
            [
             0.8888888888888888,
             "#fdca26"
            ],
            [
             1,
             "#f0f921"
            ]
           ],
           "sequentialminus": [
            [
             0,
             "#0d0887"
            ],
            [
             0.1111111111111111,
             "#46039f"
            ],
            [
             0.2222222222222222,
             "#7201a8"
            ],
            [
             0.3333333333333333,
             "#9c179e"
            ],
            [
             0.4444444444444444,
             "#bd3786"
            ],
            [
             0.5555555555555556,
             "#d8576b"
            ],
            [
             0.6666666666666666,
             "#ed7953"
            ],
            [
             0.7777777777777778,
             "#fb9f3a"
            ],
            [
             0.8888888888888888,
             "#fdca26"
            ],
            [
             1,
             "#f0f921"
            ]
           ]
          },
          "colorway": [
           "#636efa",
           "#EF553B",
           "#00cc96",
           "#ab63fa",
           "#FFA15A",
           "#19d3f3",
           "#FF6692",
           "#B6E880",
           "#FF97FF",
           "#FECB52"
          ],
          "font": {
           "color": "#2a3f5f"
          },
          "geo": {
           "bgcolor": "white",
           "lakecolor": "white",
           "landcolor": "#E5ECF6",
           "showlakes": true,
           "showland": true,
           "subunitcolor": "white"
          },
          "hoverlabel": {
           "align": "left"
          },
          "hovermode": "closest",
          "mapbox": {
           "style": "light"
          },
          "paper_bgcolor": "white",
          "plot_bgcolor": "#E5ECF6",
          "polar": {
           "angularaxis": {
            "gridcolor": "white",
            "linecolor": "white",
            "ticks": ""
           },
           "bgcolor": "#E5ECF6",
           "radialaxis": {
            "gridcolor": "white",
            "linecolor": "white",
            "ticks": ""
           }
          },
          "scene": {
           "xaxis": {
            "backgroundcolor": "#E5ECF6",
            "gridcolor": "white",
            "gridwidth": 2,
            "linecolor": "white",
            "showbackground": true,
            "ticks": "",
            "zerolinecolor": "white"
           },
           "yaxis": {
            "backgroundcolor": "#E5ECF6",
            "gridcolor": "white",
            "gridwidth": 2,
            "linecolor": "white",
            "showbackground": true,
            "ticks": "",
            "zerolinecolor": "white"
           },
           "zaxis": {
            "backgroundcolor": "#E5ECF6",
            "gridcolor": "white",
            "gridwidth": 2,
            "linecolor": "white",
            "showbackground": true,
            "ticks": "",
            "zerolinecolor": "white"
           }
          },
          "shapedefaults": {
           "line": {
            "color": "#2a3f5f"
           }
          },
          "ternary": {
           "aaxis": {
            "gridcolor": "white",
            "linecolor": "white",
            "ticks": ""
           },
           "baxis": {
            "gridcolor": "white",
            "linecolor": "white",
            "ticks": ""
           },
           "bgcolor": "#E5ECF6",
           "caxis": {
            "gridcolor": "white",
            "linecolor": "white",
            "ticks": ""
           }
          },
          "title": {
           "x": 0.05
          },
          "xaxis": {
           "automargin": true,
           "gridcolor": "white",
           "linecolor": "white",
           "ticks": "",
           "title": {
            "standoff": 15
           },
           "zerolinecolor": "white",
           "zerolinewidth": 2
          },
          "yaxis": {
           "automargin": true,
           "gridcolor": "white",
           "linecolor": "white",
           "ticks": "",
           "title": {
            "standoff": 15
           },
           "zerolinecolor": "white",
           "zerolinewidth": 2
          }
         }
        },
        "width": 1200,
        "xaxis": {
         "anchor": "y",
         "domain": [
          0,
          1
         ],
         "title": {
          "text": "domain"
         }
        },
        "yaxis": {
         "anchor": "x",
         "domain": [
          0,
          1
         ],
         "title": {
          "text": "count"
         }
        }
       }
      }
     },
     "metadata": {},
     "output_type": "display_data"
    }
   ],
   "source": [
    "import pandas as pd\n",
    "from collections import Counter\n",
    "import plotly.express as px\n",
    "\n",
    "\n",
    "df = pd.DataFrame(Counter(y_train).most_common(), columns=[\"domain\", \"count\"])\n",
    "px.bar(df, \"domain\", \"count\", width=1200, height=400).show()"
   ]
  },
  {
   "cell_type": "code",
   "execution_count": 3,
   "metadata": {},
   "outputs": [],
   "source": [
    "from sklearn.naive_bayes import MultinomialNB\n",
    "from sklearn.pipeline import Pipeline\n",
    "from sklearn.feature_extraction.text import TfidfVectorizer\n",
    "\n",
    "\n",
    "def create_pipeline() -> Pipeline:\n",
    "    return Pipeline(\n",
    "        steps=[\n",
    "            (\"vectorizer\", TfidfVectorizer(sublinear_tf=True)),\n",
    "            (\"classifier\", MultinomialNB()),\n",
    "        ]\n",
    "    )"
   ]
  },
  {
   "cell_type": "code",
   "execution_count": 4,
   "metadata": {},
   "outputs": [
    {
     "name": "stdout",
     "output_type": "stream",
     "text": [
      "Fitting 3 folds for each of 24 candidates, totalling 72 fits\n"
     ]
    },
    {
     "data": {
      "text/html": [
       "<div>\n",
       "<style scoped>\n",
       "    .dataframe tbody tr th:only-of-type {\n",
       "        vertical-align: middle;\n",
       "    }\n",
       "\n",
       "    .dataframe tbody tr th {\n",
       "        vertical-align: top;\n",
       "    }\n",
       "\n",
       "    .dataframe thead th {\n",
       "        text-align: right;\n",
       "    }\n",
       "</style>\n",
       "<table border=\"1\" class=\"dataframe\">\n",
       "  <thead>\n",
       "    <tr style=\"text-align: right;\">\n",
       "      <th></th>\n",
       "      <th>mean_fit_time</th>\n",
       "      <th>std_fit_time</th>\n",
       "      <th>mean_score_time</th>\n",
       "      <th>std_score_time</th>\n",
       "      <th>param_classifier__alpha</th>\n",
       "      <th>param_classifier__fit_prior</th>\n",
       "      <th>param_vectorizer__max_df</th>\n",
       "      <th>param_vectorizer__min_df</th>\n",
       "      <th>params</th>\n",
       "      <th>split0_test_score</th>\n",
       "      <th>split1_test_score</th>\n",
       "      <th>split2_test_score</th>\n",
       "      <th>mean_test_score</th>\n",
       "      <th>std_test_score</th>\n",
       "      <th>rank_test_score</th>\n",
       "    </tr>\n",
       "  </thead>\n",
       "  <tbody>\n",
       "    <tr>\n",
       "      <th>12</th>\n",
       "      <td>1.227354</td>\n",
       "      <td>0.011710</td>\n",
       "      <td>0.652844</td>\n",
       "      <td>0.040511</td>\n",
       "      <td>1</td>\n",
       "      <td>True</td>\n",
       "      <td>0.05</td>\n",
       "      <td>5</td>\n",
       "      <td>{'classifier__alpha': 1, 'classifier__fit_prio...</td>\n",
       "      <td>0.677283</td>\n",
       "      <td>0.670398</td>\n",
       "      <td>0.665671</td>\n",
       "      <td>0.671118</td>\n",
       "      <td>0.004768</td>\n",
       "      <td>1</td>\n",
       "    </tr>\n",
       "    <tr>\n",
       "      <th>15</th>\n",
       "      <td>1.279783</td>\n",
       "      <td>0.037969</td>\n",
       "      <td>0.634761</td>\n",
       "      <td>0.068606</td>\n",
       "      <td>1</td>\n",
       "      <td>True</td>\n",
       "      <td>0.1</td>\n",
       "      <td>5</td>\n",
       "      <td>{'classifier__alpha': 1, 'classifier__fit_prio...</td>\n",
       "      <td>0.676970</td>\n",
       "      <td>0.670244</td>\n",
       "      <td>0.666123</td>\n",
       "      <td>0.671112</td>\n",
       "      <td>0.004470</td>\n",
       "      <td>2</td>\n",
       "    </tr>\n",
       "    <tr>\n",
       "      <th>18</th>\n",
       "      <td>1.332854</td>\n",
       "      <td>0.171405</td>\n",
       "      <td>0.743611</td>\n",
       "      <td>0.109792</td>\n",
       "      <td>1</td>\n",
       "      <td>False</td>\n",
       "      <td>0.05</td>\n",
       "      <td>5</td>\n",
       "      <td>{'classifier__alpha': 1, 'classifier__fit_prio...</td>\n",
       "      <td>0.675678</td>\n",
       "      <td>0.669321</td>\n",
       "      <td>0.665305</td>\n",
       "      <td>0.670101</td>\n",
       "      <td>0.004271</td>\n",
       "      <td>3</td>\n",
       "    </tr>\n",
       "    <tr>\n",
       "      <th>21</th>\n",
       "      <td>1.253222</td>\n",
       "      <td>0.072134</td>\n",
       "      <td>0.612344</td>\n",
       "      <td>0.016771</td>\n",
       "      <td>1</td>\n",
       "      <td>False</td>\n",
       "      <td>0.1</td>\n",
       "      <td>5</td>\n",
       "      <td>{'classifier__alpha': 1, 'classifier__fit_prio...</td>\n",
       "      <td>0.675569</td>\n",
       "      <td>0.669482</td>\n",
       "      <td>0.665225</td>\n",
       "      <td>0.670092</td>\n",
       "      <td>0.004245</td>\n",
       "      <td>4</td>\n",
       "    </tr>\n",
       "    <tr>\n",
       "      <th>3</th>\n",
       "      <td>1.472035</td>\n",
       "      <td>0.080849</td>\n",
       "      <td>0.654935</td>\n",
       "      <td>0.044302</td>\n",
       "      <td>0.5</td>\n",
       "      <td>True</td>\n",
       "      <td>0.1</td>\n",
       "      <td>5</td>\n",
       "      <td>{'classifier__alpha': 0.5, 'classifier__fit_pr...</td>\n",
       "      <td>0.675225</td>\n",
       "      <td>0.668912</td>\n",
       "      <td>0.665652</td>\n",
       "      <td>0.669930</td>\n",
       "      <td>0.003974</td>\n",
       "      <td>5</td>\n",
       "    </tr>\n",
       "    <tr>\n",
       "      <th>0</th>\n",
       "      <td>1.380641</td>\n",
       "      <td>0.054306</td>\n",
       "      <td>0.739966</td>\n",
       "      <td>0.053385</td>\n",
       "      <td>0.5</td>\n",
       "      <td>True</td>\n",
       "      <td>0.05</td>\n",
       "      <td>5</td>\n",
       "      <td>{'classifier__alpha': 0.5, 'classifier__fit_pr...</td>\n",
       "      <td>0.675264</td>\n",
       "      <td>0.668781</td>\n",
       "      <td>0.665394</td>\n",
       "      <td>0.669813</td>\n",
       "      <td>0.004095</td>\n",
       "      <td>6</td>\n",
       "    </tr>\n",
       "    <tr>\n",
       "      <th>9</th>\n",
       "      <td>1.284987</td>\n",
       "      <td>0.113903</td>\n",
       "      <td>0.696876</td>\n",
       "      <td>0.003757</td>\n",
       "      <td>0.5</td>\n",
       "      <td>False</td>\n",
       "      <td>0.1</td>\n",
       "      <td>5</td>\n",
       "      <td>{'classifier__alpha': 0.5, 'classifier__fit_pr...</td>\n",
       "      <td>0.674199</td>\n",
       "      <td>0.668005</td>\n",
       "      <td>0.664456</td>\n",
       "      <td>0.668887</td>\n",
       "      <td>0.004026</td>\n",
       "      <td>7</td>\n",
       "    </tr>\n",
       "    <tr>\n",
       "      <th>6</th>\n",
       "      <td>1.291148</td>\n",
       "      <td>0.101837</td>\n",
       "      <td>0.686561</td>\n",
       "      <td>0.083989</td>\n",
       "      <td>0.5</td>\n",
       "      <td>False</td>\n",
       "      <td>0.05</td>\n",
       "      <td>5</td>\n",
       "      <td>{'classifier__alpha': 0.5, 'classifier__fit_pr...</td>\n",
       "      <td>0.673996</td>\n",
       "      <td>0.668048</td>\n",
       "      <td>0.664572</td>\n",
       "      <td>0.668872</td>\n",
       "      <td>0.003891</td>\n",
       "      <td>8</td>\n",
       "    </tr>\n",
       "    <tr>\n",
       "      <th>13</th>\n",
       "      <td>1.268873</td>\n",
       "      <td>0.042412</td>\n",
       "      <td>0.645649</td>\n",
       "      <td>0.022738</td>\n",
       "      <td>1</td>\n",
       "      <td>True</td>\n",
       "      <td>0.05</td>\n",
       "      <td>20</td>\n",
       "      <td>{'classifier__alpha': 1, 'classifier__fit_prio...</td>\n",
       "      <td>0.656459</td>\n",
       "      <td>0.647433</td>\n",
       "      <td>0.644864</td>\n",
       "      <td>0.649585</td>\n",
       "      <td>0.004972</td>\n",
       "      <td>9</td>\n",
       "    </tr>\n",
       "    <tr>\n",
       "      <th>16</th>\n",
       "      <td>1.147120</td>\n",
       "      <td>0.009335</td>\n",
       "      <td>0.599006</td>\n",
       "      <td>0.045637</td>\n",
       "      <td>1</td>\n",
       "      <td>True</td>\n",
       "      <td>0.1</td>\n",
       "      <td>20</td>\n",
       "      <td>{'classifier__alpha': 1, 'classifier__fit_prio...</td>\n",
       "      <td>0.656196</td>\n",
       "      <td>0.646960</td>\n",
       "      <td>0.645436</td>\n",
       "      <td>0.649530</td>\n",
       "      <td>0.004754</td>\n",
       "      <td>10</td>\n",
       "    </tr>\n",
       "    <tr>\n",
       "      <th>4</th>\n",
       "      <td>1.186988</td>\n",
       "      <td>0.057330</td>\n",
       "      <td>0.642233</td>\n",
       "      <td>0.078248</td>\n",
       "      <td>0.5</td>\n",
       "      <td>True</td>\n",
       "      <td>0.1</td>\n",
       "      <td>20</td>\n",
       "      <td>{'classifier__alpha': 0.5, 'classifier__fit_pr...</td>\n",
       "      <td>0.654424</td>\n",
       "      <td>0.644690</td>\n",
       "      <td>0.644991</td>\n",
       "      <td>0.648035</td>\n",
       "      <td>0.004519</td>\n",
       "      <td>11</td>\n",
       "    </tr>\n",
       "    <tr>\n",
       "      <th>1</th>\n",
       "      <td>1.413231</td>\n",
       "      <td>0.153288</td>\n",
       "      <td>0.765960</td>\n",
       "      <td>0.099535</td>\n",
       "      <td>0.5</td>\n",
       "      <td>True</td>\n",
       "      <td>0.05</td>\n",
       "      <td>20</td>\n",
       "      <td>{'classifier__alpha': 0.5, 'classifier__fit_pr...</td>\n",
       "      <td>0.654622</td>\n",
       "      <td>0.644901</td>\n",
       "      <td>0.644425</td>\n",
       "      <td>0.647983</td>\n",
       "      <td>0.004699</td>\n",
       "      <td>12</td>\n",
       "    </tr>\n",
       "    <tr>\n",
       "      <th>19</th>\n",
       "      <td>1.193013</td>\n",
       "      <td>0.079000</td>\n",
       "      <td>0.691768</td>\n",
       "      <td>0.027448</td>\n",
       "      <td>1</td>\n",
       "      <td>False</td>\n",
       "      <td>0.05</td>\n",
       "      <td>20</td>\n",
       "      <td>{'classifier__alpha': 1, 'classifier__fit_prio...</td>\n",
       "      <td>0.655125</td>\n",
       "      <td>0.645586</td>\n",
       "      <td>0.643166</td>\n",
       "      <td>0.647959</td>\n",
       "      <td>0.005163</td>\n",
       "      <td>13</td>\n",
       "    </tr>\n",
       "    <tr>\n",
       "      <th>22</th>\n",
       "      <td>1.043618</td>\n",
       "      <td>0.098733</td>\n",
       "      <td>0.450375</td>\n",
       "      <td>0.061660</td>\n",
       "      <td>1</td>\n",
       "      <td>False</td>\n",
       "      <td>0.1</td>\n",
       "      <td>20</td>\n",
       "      <td>{'classifier__alpha': 1, 'classifier__fit_prio...</td>\n",
       "      <td>0.654254</td>\n",
       "      <td>0.645409</td>\n",
       "      <td>0.643514</td>\n",
       "      <td>0.647726</td>\n",
       "      <td>0.004680</td>\n",
       "      <td>14</td>\n",
       "    </tr>\n",
       "    <tr>\n",
       "      <th>7</th>\n",
       "      <td>1.301459</td>\n",
       "      <td>0.062143</td>\n",
       "      <td>0.660748</td>\n",
       "      <td>0.056054</td>\n",
       "      <td>0.5</td>\n",
       "      <td>False</td>\n",
       "      <td>0.05</td>\n",
       "      <td>20</td>\n",
       "      <td>{'classifier__alpha': 0.5, 'classifier__fit_pr...</td>\n",
       "      <td>0.652727</td>\n",
       "      <td>0.643691</td>\n",
       "      <td>0.642749</td>\n",
       "      <td>0.646389</td>\n",
       "      <td>0.004498</td>\n",
       "      <td>15</td>\n",
       "    </tr>\n",
       "    <tr>\n",
       "      <th>10</th>\n",
       "      <td>1.433934</td>\n",
       "      <td>0.155240</td>\n",
       "      <td>0.636608</td>\n",
       "      <td>0.024064</td>\n",
       "      <td>0.5</td>\n",
       "      <td>False</td>\n",
       "      <td>0.1</td>\n",
       "      <td>20</td>\n",
       "      <td>{'classifier__alpha': 0.5, 'classifier__fit_pr...</td>\n",
       "      <td>0.652290</td>\n",
       "      <td>0.642975</td>\n",
       "      <td>0.643421</td>\n",
       "      <td>0.646229</td>\n",
       "      <td>0.004290</td>\n",
       "      <td>16</td>\n",
       "    </tr>\n",
       "    <tr>\n",
       "      <th>14</th>\n",
       "      <td>1.325535</td>\n",
       "      <td>0.073539</td>\n",
       "      <td>0.672542</td>\n",
       "      <td>0.085835</td>\n",
       "      <td>1</td>\n",
       "      <td>True</td>\n",
       "      <td>0.05</td>\n",
       "      <td>100</td>\n",
       "      <td>{'classifier__alpha': 1, 'classifier__fit_prio...</td>\n",
       "      <td>0.587097</td>\n",
       "      <td>0.577411</td>\n",
       "      <td>0.580170</td>\n",
       "      <td>0.581560</td>\n",
       "      <td>0.004075</td>\n",
       "      <td>17</td>\n",
       "    </tr>\n",
       "    <tr>\n",
       "      <th>17</th>\n",
       "      <td>1.237677</td>\n",
       "      <td>0.070063</td>\n",
       "      <td>0.651091</td>\n",
       "      <td>0.102538</td>\n",
       "      <td>1</td>\n",
       "      <td>True</td>\n",
       "      <td>0.1</td>\n",
       "      <td>100</td>\n",
       "      <td>{'classifier__alpha': 1, 'classifier__fit_prio...</td>\n",
       "      <td>0.585713</td>\n",
       "      <td>0.577197</td>\n",
       "      <td>0.580763</td>\n",
       "      <td>0.581224</td>\n",
       "      <td>0.003492</td>\n",
       "      <td>18</td>\n",
       "    </tr>\n",
       "    <tr>\n",
       "      <th>2</th>\n",
       "      <td>1.394873</td>\n",
       "      <td>0.105286</td>\n",
       "      <td>0.637073</td>\n",
       "      <td>0.041708</td>\n",
       "      <td>0.5</td>\n",
       "      <td>True</td>\n",
       "      <td>0.05</td>\n",
       "      <td>100</td>\n",
       "      <td>{'classifier__alpha': 0.5, 'classifier__fit_pr...</td>\n",
       "      <td>0.586346</td>\n",
       "      <td>0.576987</td>\n",
       "      <td>0.579852</td>\n",
       "      <td>0.581062</td>\n",
       "      <td>0.003915</td>\n",
       "      <td>19</td>\n",
       "    </tr>\n",
       "    <tr>\n",
       "      <th>5</th>\n",
       "      <td>1.270732</td>\n",
       "      <td>0.013414</td>\n",
       "      <td>0.620984</td>\n",
       "      <td>0.025393</td>\n",
       "      <td>0.5</td>\n",
       "      <td>True</td>\n",
       "      <td>0.1</td>\n",
       "      <td>100</td>\n",
       "      <td>{'classifier__alpha': 0.5, 'classifier__fit_pr...</td>\n",
       "      <td>0.585634</td>\n",
       "      <td>0.576217</td>\n",
       "      <td>0.580320</td>\n",
       "      <td>0.580723</td>\n",
       "      <td>0.003855</td>\n",
       "      <td>20</td>\n",
       "    </tr>\n",
       "    <tr>\n",
       "      <th>20</th>\n",
       "      <td>1.177219</td>\n",
       "      <td>0.039633</td>\n",
       "      <td>0.586308</td>\n",
       "      <td>0.044247</td>\n",
       "      <td>1</td>\n",
       "      <td>False</td>\n",
       "      <td>0.05</td>\n",
       "      <td>100</td>\n",
       "      <td>{'classifier__alpha': 1, 'classifier__fit_prio...</td>\n",
       "      <td>0.581096</td>\n",
       "      <td>0.572833</td>\n",
       "      <td>0.576280</td>\n",
       "      <td>0.576736</td>\n",
       "      <td>0.003389</td>\n",
       "      <td>21</td>\n",
       "    </tr>\n",
       "    <tr>\n",
       "      <th>8</th>\n",
       "      <td>1.165583</td>\n",
       "      <td>0.046999</td>\n",
       "      <td>0.603675</td>\n",
       "      <td>0.031774</td>\n",
       "      <td>0.5</td>\n",
       "      <td>False</td>\n",
       "      <td>0.05</td>\n",
       "      <td>100</td>\n",
       "      <td>{'classifier__alpha': 0.5, 'classifier__fit_pr...</td>\n",
       "      <td>0.580841</td>\n",
       "      <td>0.572391</td>\n",
       "      <td>0.575731</td>\n",
       "      <td>0.576321</td>\n",
       "      <td>0.003475</td>\n",
       "      <td>22</td>\n",
       "    </tr>\n",
       "    <tr>\n",
       "      <th>23</th>\n",
       "      <td>0.907388</td>\n",
       "      <td>0.121543</td>\n",
       "      <td>0.354655</td>\n",
       "      <td>0.023775</td>\n",
       "      <td>1</td>\n",
       "      <td>False</td>\n",
       "      <td>0.1</td>\n",
       "      <td>100</td>\n",
       "      <td>{'classifier__alpha': 1, 'classifier__fit_prio...</td>\n",
       "      <td>0.579769</td>\n",
       "      <td>0.572373</td>\n",
       "      <td>0.576699</td>\n",
       "      <td>0.576280</td>\n",
       "      <td>0.003034</td>\n",
       "      <td>23</td>\n",
       "    </tr>\n",
       "    <tr>\n",
       "      <th>11</th>\n",
       "      <td>1.210845</td>\n",
       "      <td>0.041339</td>\n",
       "      <td>0.653606</td>\n",
       "      <td>0.028117</td>\n",
       "      <td>0.5</td>\n",
       "      <td>False</td>\n",
       "      <td>0.1</td>\n",
       "      <td>100</td>\n",
       "      <td>{'classifier__alpha': 0.5, 'classifier__fit_pr...</td>\n",
       "      <td>0.579743</td>\n",
       "      <td>0.571607</td>\n",
       "      <td>0.576352</td>\n",
       "      <td>0.575901</td>\n",
       "      <td>0.003337</td>\n",
       "      <td>24</td>\n",
       "    </tr>\n",
       "  </tbody>\n",
       "</table>\n",
       "</div>"
      ],
      "text/plain": [
       "    mean_fit_time  std_fit_time  mean_score_time  std_score_time  \\\n",
       "12       1.227354      0.011710         0.652844        0.040511   \n",
       "15       1.279783      0.037969         0.634761        0.068606   \n",
       "18       1.332854      0.171405         0.743611        0.109792   \n",
       "21       1.253222      0.072134         0.612344        0.016771   \n",
       "3        1.472035      0.080849         0.654935        0.044302   \n",
       "0        1.380641      0.054306         0.739966        0.053385   \n",
       "9        1.284987      0.113903         0.696876        0.003757   \n",
       "6        1.291148      0.101837         0.686561        0.083989   \n",
       "13       1.268873      0.042412         0.645649        0.022738   \n",
       "16       1.147120      0.009335         0.599006        0.045637   \n",
       "4        1.186988      0.057330         0.642233        0.078248   \n",
       "1        1.413231      0.153288         0.765960        0.099535   \n",
       "19       1.193013      0.079000         0.691768        0.027448   \n",
       "22       1.043618      0.098733         0.450375        0.061660   \n",
       "7        1.301459      0.062143         0.660748        0.056054   \n",
       "10       1.433934      0.155240         0.636608        0.024064   \n",
       "14       1.325535      0.073539         0.672542        0.085835   \n",
       "17       1.237677      0.070063         0.651091        0.102538   \n",
       "2        1.394873      0.105286         0.637073        0.041708   \n",
       "5        1.270732      0.013414         0.620984        0.025393   \n",
       "20       1.177219      0.039633         0.586308        0.044247   \n",
       "8        1.165583      0.046999         0.603675        0.031774   \n",
       "23       0.907388      0.121543         0.354655        0.023775   \n",
       "11       1.210845      0.041339         0.653606        0.028117   \n",
       "\n",
       "   param_classifier__alpha param_classifier__fit_prior  \\\n",
       "12                       1                        True   \n",
       "15                       1                        True   \n",
       "18                       1                       False   \n",
       "21                       1                       False   \n",
       "3                      0.5                        True   \n",
       "0                      0.5                        True   \n",
       "9                      0.5                       False   \n",
       "6                      0.5                       False   \n",
       "13                       1                        True   \n",
       "16                       1                        True   \n",
       "4                      0.5                        True   \n",
       "1                      0.5                        True   \n",
       "19                       1                       False   \n",
       "22                       1                       False   \n",
       "7                      0.5                       False   \n",
       "10                     0.5                       False   \n",
       "14                       1                        True   \n",
       "17                       1                        True   \n",
       "2                      0.5                        True   \n",
       "5                      0.5                        True   \n",
       "20                       1                       False   \n",
       "8                      0.5                       False   \n",
       "23                       1                       False   \n",
       "11                     0.5                       False   \n",
       "\n",
       "   param_vectorizer__max_df param_vectorizer__min_df  \\\n",
       "12                     0.05                        5   \n",
       "15                      0.1                        5   \n",
       "18                     0.05                        5   \n",
       "21                      0.1                        5   \n",
       "3                       0.1                        5   \n",
       "0                      0.05                        5   \n",
       "9                       0.1                        5   \n",
       "6                      0.05                        5   \n",
       "13                     0.05                       20   \n",
       "16                      0.1                       20   \n",
       "4                       0.1                       20   \n",
       "1                      0.05                       20   \n",
       "19                     0.05                       20   \n",
       "22                      0.1                       20   \n",
       "7                      0.05                       20   \n",
       "10                      0.1                       20   \n",
       "14                     0.05                      100   \n",
       "17                      0.1                      100   \n",
       "2                      0.05                      100   \n",
       "5                       0.1                      100   \n",
       "20                     0.05                      100   \n",
       "8                      0.05                      100   \n",
       "23                      0.1                      100   \n",
       "11                      0.1                      100   \n",
       "\n",
       "                                               params  split0_test_score  \\\n",
       "12  {'classifier__alpha': 1, 'classifier__fit_prio...           0.677283   \n",
       "15  {'classifier__alpha': 1, 'classifier__fit_prio...           0.676970   \n",
       "18  {'classifier__alpha': 1, 'classifier__fit_prio...           0.675678   \n",
       "21  {'classifier__alpha': 1, 'classifier__fit_prio...           0.675569   \n",
       "3   {'classifier__alpha': 0.5, 'classifier__fit_pr...           0.675225   \n",
       "0   {'classifier__alpha': 0.5, 'classifier__fit_pr...           0.675264   \n",
       "9   {'classifier__alpha': 0.5, 'classifier__fit_pr...           0.674199   \n",
       "6   {'classifier__alpha': 0.5, 'classifier__fit_pr...           0.673996   \n",
       "13  {'classifier__alpha': 1, 'classifier__fit_prio...           0.656459   \n",
       "16  {'classifier__alpha': 1, 'classifier__fit_prio...           0.656196   \n",
       "4   {'classifier__alpha': 0.5, 'classifier__fit_pr...           0.654424   \n",
       "1   {'classifier__alpha': 0.5, 'classifier__fit_pr...           0.654622   \n",
       "19  {'classifier__alpha': 1, 'classifier__fit_prio...           0.655125   \n",
       "22  {'classifier__alpha': 1, 'classifier__fit_prio...           0.654254   \n",
       "7   {'classifier__alpha': 0.5, 'classifier__fit_pr...           0.652727   \n",
       "10  {'classifier__alpha': 0.5, 'classifier__fit_pr...           0.652290   \n",
       "14  {'classifier__alpha': 1, 'classifier__fit_prio...           0.587097   \n",
       "17  {'classifier__alpha': 1, 'classifier__fit_prio...           0.585713   \n",
       "2   {'classifier__alpha': 0.5, 'classifier__fit_pr...           0.586346   \n",
       "5   {'classifier__alpha': 0.5, 'classifier__fit_pr...           0.585634   \n",
       "20  {'classifier__alpha': 1, 'classifier__fit_prio...           0.581096   \n",
       "8   {'classifier__alpha': 0.5, 'classifier__fit_pr...           0.580841   \n",
       "23  {'classifier__alpha': 1, 'classifier__fit_prio...           0.579769   \n",
       "11  {'classifier__alpha': 0.5, 'classifier__fit_pr...           0.579743   \n",
       "\n",
       "    split1_test_score  split2_test_score  mean_test_score  std_test_score  \\\n",
       "12           0.670398           0.665671         0.671118        0.004768   \n",
       "15           0.670244           0.666123         0.671112        0.004470   \n",
       "18           0.669321           0.665305         0.670101        0.004271   \n",
       "21           0.669482           0.665225         0.670092        0.004245   \n",
       "3            0.668912           0.665652         0.669930        0.003974   \n",
       "0            0.668781           0.665394         0.669813        0.004095   \n",
       "9            0.668005           0.664456         0.668887        0.004026   \n",
       "6            0.668048           0.664572         0.668872        0.003891   \n",
       "13           0.647433           0.644864         0.649585        0.004972   \n",
       "16           0.646960           0.645436         0.649530        0.004754   \n",
       "4            0.644690           0.644991         0.648035        0.004519   \n",
       "1            0.644901           0.644425         0.647983        0.004699   \n",
       "19           0.645586           0.643166         0.647959        0.005163   \n",
       "22           0.645409           0.643514         0.647726        0.004680   \n",
       "7            0.643691           0.642749         0.646389        0.004498   \n",
       "10           0.642975           0.643421         0.646229        0.004290   \n",
       "14           0.577411           0.580170         0.581560        0.004075   \n",
       "17           0.577197           0.580763         0.581224        0.003492   \n",
       "2            0.576987           0.579852         0.581062        0.003915   \n",
       "5            0.576217           0.580320         0.580723        0.003855   \n",
       "20           0.572833           0.576280         0.576736        0.003389   \n",
       "8            0.572391           0.575731         0.576321        0.003475   \n",
       "23           0.572373           0.576699         0.576280        0.003034   \n",
       "11           0.571607           0.576352         0.575901        0.003337   \n",
       "\n",
       "    rank_test_score  \n",
       "12                1  \n",
       "15                2  \n",
       "18                3  \n",
       "21                4  \n",
       "3                 5  \n",
       "0                 6  \n",
       "9                 7  \n",
       "6                 8  \n",
       "13                9  \n",
       "16               10  \n",
       "4                11  \n",
       "1                12  \n",
       "19               13  \n",
       "22               14  \n",
       "7                15  \n",
       "10               16  \n",
       "14               17  \n",
       "17               18  \n",
       "2                19  \n",
       "5                20  \n",
       "20               21  \n",
       "8                22  \n",
       "23               23  \n",
       "11               24  "
      ]
     },
     "execution_count": 4,
     "metadata": {},
     "output_type": "execute_result"
    }
   ],
   "source": [
    "from sklearn.model_selection import GridSearchCV\n",
    "\n",
    "optimisation_pipeline = GridSearchCV(\n",
    "    create_pipeline(),\n",
    "    {\n",
    "        \"vectorizer__min_df\": [5, 20, 100],\n",
    "        \"vectorizer__max_df\": [0.05, 0.1],\n",
    "        \"classifier__alpha\": [0.5, 1],\n",
    "        \"classifier__fit_prior\": [True, False],\n",
    "    },\n",
    "    scoring=\"f1_macro\",\n",
    "    cv=3,\n",
    "    n_jobs=-1,\n",
    "    verbose=1,\n",
    ")\n",
    "optimisation_pipeline.fit(X_train, y_train)\n",
    "\n",
    "results = pd.DataFrame(optimisation_pipeline.cv_results_)\n",
    "results.sort_values(\"rank_test_score\")"
   ]
  },
  {
   "cell_type": "code",
   "execution_count": 5,
   "metadata": {},
   "outputs": [
    {
     "data": {
      "text/html": [
       "<style>#sk-container-id-1 {color: black;background-color: white;}#sk-container-id-1 pre{padding: 0;}#sk-container-id-1 div.sk-toggleable {background-color: white;}#sk-container-id-1 label.sk-toggleable__label {cursor: pointer;display: block;width: 100%;margin-bottom: 0;padding: 0.3em;box-sizing: border-box;text-align: center;}#sk-container-id-1 label.sk-toggleable__label-arrow:before {content: \"▸\";float: left;margin-right: 0.25em;color: #696969;}#sk-container-id-1 label.sk-toggleable__label-arrow:hover:before {color: black;}#sk-container-id-1 div.sk-estimator:hover label.sk-toggleable__label-arrow:before {color: black;}#sk-container-id-1 div.sk-toggleable__content {max-height: 0;max-width: 0;overflow: hidden;text-align: left;background-color: #f0f8ff;}#sk-container-id-1 div.sk-toggleable__content pre {margin: 0.2em;color: black;border-radius: 0.25em;background-color: #f0f8ff;}#sk-container-id-1 input.sk-toggleable__control:checked~div.sk-toggleable__content {max-height: 200px;max-width: 100%;overflow: auto;}#sk-container-id-1 input.sk-toggleable__control:checked~label.sk-toggleable__label-arrow:before {content: \"▾\";}#sk-container-id-1 div.sk-estimator input.sk-toggleable__control:checked~label.sk-toggleable__label {background-color: #d4ebff;}#sk-container-id-1 div.sk-label input.sk-toggleable__control:checked~label.sk-toggleable__label {background-color: #d4ebff;}#sk-container-id-1 input.sk-hidden--visually {border: 0;clip: rect(1px 1px 1px 1px);clip: rect(1px, 1px, 1px, 1px);height: 1px;margin: -1px;overflow: hidden;padding: 0;position: absolute;width: 1px;}#sk-container-id-1 div.sk-estimator {font-family: monospace;background-color: #f0f8ff;border: 1px dotted black;border-radius: 0.25em;box-sizing: border-box;margin-bottom: 0.5em;}#sk-container-id-1 div.sk-estimator:hover {background-color: #d4ebff;}#sk-container-id-1 div.sk-parallel-item::after {content: \"\";width: 100%;border-bottom: 1px solid gray;flex-grow: 1;}#sk-container-id-1 div.sk-label:hover label.sk-toggleable__label {background-color: #d4ebff;}#sk-container-id-1 div.sk-serial::before {content: \"\";position: absolute;border-left: 1px solid gray;box-sizing: border-box;top: 0;bottom: 0;left: 50%;z-index: 0;}#sk-container-id-1 div.sk-serial {display: flex;flex-direction: column;align-items: center;background-color: white;padding-right: 0.2em;padding-left: 0.2em;position: relative;}#sk-container-id-1 div.sk-item {position: relative;z-index: 1;}#sk-container-id-1 div.sk-parallel {display: flex;align-items: stretch;justify-content: center;background-color: white;position: relative;}#sk-container-id-1 div.sk-item::before, #sk-container-id-1 div.sk-parallel-item::before {content: \"\";position: absolute;border-left: 1px solid gray;box-sizing: border-box;top: 0;bottom: 0;left: 50%;z-index: -1;}#sk-container-id-1 div.sk-parallel-item {display: flex;flex-direction: column;z-index: 1;position: relative;background-color: white;}#sk-container-id-1 div.sk-parallel-item:first-child::after {align-self: flex-end;width: 50%;}#sk-container-id-1 div.sk-parallel-item:last-child::after {align-self: flex-start;width: 50%;}#sk-container-id-1 div.sk-parallel-item:only-child::after {width: 0;}#sk-container-id-1 div.sk-dashed-wrapped {border: 1px dashed gray;margin: 0 0.4em 0.5em 0.4em;box-sizing: border-box;padding-bottom: 0.4em;background-color: white;}#sk-container-id-1 div.sk-label label {font-family: monospace;font-weight: bold;display: inline-block;line-height: 1.2em;}#sk-container-id-1 div.sk-label-container {text-align: center;}#sk-container-id-1 div.sk-container {/* jupyter's `normalize.less` sets `[hidden] { display: none; }` but bootstrap.min.css set `[hidden] { display: none !important; }` so we also need the `!important` here to be able to override the default hidden behavior on the sphinx rendered scikit-learn.org. See: https://github.com/scikit-learn/scikit-learn/issues/21755 */display: inline-block !important;position: relative;}#sk-container-id-1 div.sk-text-repr-fallback {display: none;}</style><div id=\"sk-container-id-1\" class=\"sk-top-container\"><div class=\"sk-text-repr-fallback\"><pre>Pipeline(steps=[(&#x27;vectorizer&#x27;,\n",
       "                 TfidfVectorizer(max_df=0.05, min_df=5, sublinear_tf=True)),\n",
       "                (&#x27;classifier&#x27;, MultinomialNB(alpha=1))])</pre><b>In a Jupyter environment, please rerun this cell to show the HTML representation or trust the notebook. <br />On GitHub, the HTML representation is unable to render, please try loading this page with nbviewer.org.</b></div><div class=\"sk-container\" hidden><div class=\"sk-item sk-dashed-wrapped\"><div class=\"sk-label-container\"><div class=\"sk-label sk-toggleable\"><input class=\"sk-toggleable__control sk-hidden--visually\" id=\"sk-estimator-id-1\" type=\"checkbox\" ><label for=\"sk-estimator-id-1\" class=\"sk-toggleable__label sk-toggleable__label-arrow\">Pipeline</label><div class=\"sk-toggleable__content\"><pre>Pipeline(steps=[(&#x27;vectorizer&#x27;,\n",
       "                 TfidfVectorizer(max_df=0.05, min_df=5, sublinear_tf=True)),\n",
       "                (&#x27;classifier&#x27;, MultinomialNB(alpha=1))])</pre></div></div></div><div class=\"sk-serial\"><div class=\"sk-item\"><div class=\"sk-estimator sk-toggleable\"><input class=\"sk-toggleable__control sk-hidden--visually\" id=\"sk-estimator-id-2\" type=\"checkbox\" ><label for=\"sk-estimator-id-2\" class=\"sk-toggleable__label sk-toggleable__label-arrow\">TfidfVectorizer</label><div class=\"sk-toggleable__content\"><pre>TfidfVectorizer(max_df=0.05, min_df=5, sublinear_tf=True)</pre></div></div></div><div class=\"sk-item\"><div class=\"sk-estimator sk-toggleable\"><input class=\"sk-toggleable__control sk-hidden--visually\" id=\"sk-estimator-id-3\" type=\"checkbox\" ><label for=\"sk-estimator-id-3\" class=\"sk-toggleable__label sk-toggleable__label-arrow\">MultinomialNB</label><div class=\"sk-toggleable__content\"><pre>MultinomialNB(alpha=1)</pre></div></div></div></div></div></div></div>"
      ],
      "text/plain": [
       "Pipeline(steps=[('vectorizer',\n",
       "                 TfidfVectorizer(max_df=0.05, min_df=5, sublinear_tf=True)),\n",
       "                ('classifier', MultinomialNB(alpha=1))])"
      ]
     },
     "execution_count": 5,
     "metadata": {},
     "output_type": "execute_result"
    }
   ],
   "source": [
    "from sklearn import set_config\n",
    "\n",
    "set_config(display=\"diagram\")\n",
    "\n",
    "classifier = create_pipeline()\n",
    "classifier.set_params(**optimisation_pipeline.best_params_)\n",
    "classifier.fit(X_train, y_train)"
   ]
  },
  {
   "cell_type": "code",
   "execution_count": 6,
   "metadata": {},
   "outputs": [
    {
     "name": "stdout",
     "output_type": "stream",
     "text": [
      "              precision    recall  f1-score   support\n",
      "\n",
      "    business     0.6412    0.7258    0.6808      3198\n",
      "   economics     0.6635    0.7146    0.6881      3189\n",
      "   geography     0.7461    0.6791    0.7111      3207\n",
      "    medicine     0.8806    0.9021    0.8912      3187\n",
      "    politics     0.5563    0.5895    0.5724      3169\n",
      "  psychology     0.7654    0.6811    0.7208      3252\n",
      "   sociology     0.5165    0.4698    0.4921      3197\n",
      "\n",
      "    accuracy                         0.6803     22399\n",
      "   macro avg     0.6814    0.6803    0.6795     22399\n",
      "weighted avg     0.6817    0.6803    0.6796     22399\n",
      "\n"
     ]
    },
    {
     "data": {
      "image/png": "[encoded data removed]",
      "text/plain": [
       "<Figure size 2160x1080 with 2 Axes>"
      ]
     },
     "metadata": {},
     "output_type": "display_data"
    }
   ],
   "source": [
    "from sklearn import metrics\n",
    "import matplotlib.pyplot as plt\n",
    "\n",
    "y_predicted = classifier.predict(X_test)\n",
    "\n",
    "%matplotlib inline\n",
    "plt.rcParams[\"figure.figsize\"] = (30, 15)\n",
    "plt.rcParams[\"figure.facecolor\"] = \"white\"\n",
    "plt.rcParams[\"font.size\"] = 12\n",
    "plt.rcParams[\"axes.xmargin\"] = 0\n",
    "\n",
    "print(metrics.classification_report(y_test, y_predicted, digits=4))\n",
    "metrics.ConfusionMatrixDisplay.from_predictions(\n",
    "    y_true=y_test,\n",
    "    y_pred=y_predicted,\n",
    "    xticks_rotation=\"vertical\",\n",
    "    normalize=\"pred\",\n",
    "    values_format=\".2f\",\n",
    ")\n",
    "None"
   ]
  }
 ],
 "metadata": {
  "kernelspec": {
   "display_name": "Python 3.10.4 ('.env': venv)",
   "language": "python",
   "name": "python3"
  },
  "language_info": {
   "codemirror_mode": {
    "name": "ipython",
    "version": 3
   },
   "file_extension": ".py",
   "mimetype": "text/x-python",
   "name": "python",
   "nbconvert_exporter": "python",
   "pygments_lexer": "ipython3",
   "version": "3.10.4"
  },
  "orig_nbformat": 4,
  "vscode": {
   "interpreter": {
    "hash": "02dd6d3afbfa9fbbe1037d64ad9014965528a1ccad21929d6e72f466389a68ad"
   }
  }
 },
 "nbformat": 4,
 "nbformat_minor": 2
}
