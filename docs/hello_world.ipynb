{
 "cells": [
  {
   "cell_type": "code",
   "execution_count": null,
   "metadata": {},
   "outputs": [],
   "source": [
    "from great_ai import GreatAI\n",
    "\n",
    "\n",
    "@GreatAI.create\n",
    "def hello_world(name: str) -> str:\n",
    "    return f\"Hello {name}!\""
   ]
  }
 ],
 "metadata": {
  "language_info": {
   "name": "python"
  },
  "orig_nbformat": 4
 },
 "nbformat": 4,
 "nbformat_minor": 2
}
